{
 "cells": [
  {
   "cell_type": "code",
   "execution_count": 1,
   "metadata": {
    "collapsed": true
   },
   "outputs": [],
   "source": [
    "import requests\n",
    "entity = 'https://api.openlattice.com/datastore/edm/entity/type'\n"
   ]
  },
  {
   "cell_type": "code",
   "execution_count": 2,
   "metadata": {},
   "outputs": [
    {
     "name": "stdout",
     "output_type": "stream",
     "text": [
      "{u'propertyTags': {}, u'category': u'AssociationType', u'description': u'Association linking a patient and the medical staff who assessed them. NOTE this FQN will be changed to general.assessedby later.', u'title': u'Assessed By (-d)', u'shards': 3, u'properties': [u'6675a7e8-2159-41b1-9431-4053690fa3c9', u'e9a0b4dc-5298-47c1-8837-20af172379a5', u'7b038634-a0b4-4ce1-a04f-85d1775937aa', u'e729bfaf-929e-498e-b953-d24656a168f6', u'e4c4cac8-aa44-4b99-9c6d-d3b3c6ef0734'], u'key': [u'6675a7e8-2159-41b1-9431-4053690fa3c9'], u'type': {u'namespace': u'health', u'name': u'assessedby -d'}, u'id': u'8a9e7698-a16e-4134-b63b-b3a379d0290b', u'schemas': [{u'namespace': u'v2', u'name': u'v2'}]}\n"
     ]
    }
   ],
   "source": [
    "json = requests.get(entity).json()\n",
    "print json[0]"
   ]
  },
  {
   "cell_type": "code",
   "execution_count": 5,
   "metadata": {},
   "outputs": [
    {
     "name": "stdout",
     "output_type": "stream",
     "text": [
      "set([0, 1, 2, 3, 4, 5, 6, 7, 8, 9, 10, 11, 12, 13, 14, 15, 16, 17, 18, 19, 20, 21, 22, 23, 24, 26, 28, 29, 34, 36, 37, 38, 39, 41, 55, 110])\n"
     ]
    }
   ],
   "source": [
    "props = [len(item['properties']) for item in json]\n"
   ]
  },
  {
   "cell_type": "code",
   "execution_count": 7,
   "metadata": {},
   "outputs": [],
   "source": [
    "#how many items have 3 props, 4 props etc\n",
    "from collections import Counter"
   ]
  },
  {
   "cell_type": "code",
   "execution_count": 10,
   "metadata": {},
   "outputs": [],
   "source": [
    "c = Counter(props)"
   ]
  },
  {
   "cell_type": "code",
   "execution_count": 11,
   "metadata": {},
   "outputs": [],
   "source": [
    "items = c.items()"
   ]
  },
  {
   "cell_type": "code",
   "execution_count": 12,
   "metadata": {},
   "outputs": [
    {
     "name": "stdout",
     "output_type": "stream",
     "text": [
      "[(0, 1), (1, 77), (2, 76), (3, 44), (4, 39), (5, 36), (6, 30), (7, 17), (8, 13), (9, 28), (10, 17), (11, 9), (12, 11), (13, 11), (14, 7), (15, 5), (16, 6), (17, 2), (18, 7), (19, 7), (20, 3), (21, 3), (22, 3), (23, 2), (24, 1), (26, 5), (28, 1), (29, 2), (34, 1), (36, 1), (37, 1), (38, 1), (39, 1), (41, 1), (55, 1), (110, 1)]\n"
     ]
    }
   ],
   "source": [
    "print (items)"
   ]
  },
  {
   "cell_type": "code",
   "execution_count": 14,
   "metadata": {},
   "outputs": [
    {
     "name": "stdout",
     "output_type": "stream",
     "text": [
      "[0, 1, 2, 3, 4, 5, 6, 7, 8, 9, 10, 11, 12, 13, 14, 15, 16, 17, 18, 19, 20, 21, 22, 23, 24, 26, 28, 29, 34, 36, 37, 38, 39, 41, 55, 110]\n"
     ]
    }
   ],
   "source": [
    "size = [i for (i, j) in items]\n",
    "print size"
   ]
  },
  {
   "cell_type": "code",
   "execution_count": 15,
   "metadata": {
    "collapsed": true
   },
   "outputs": [],
   "source": [
    "count = [j for (i,j) in items]"
   ]
  },
  {
   "cell_type": "code",
   "execution_count": 16,
   "metadata": {},
   "outputs": [
    {
     "name": "stdout",
     "output_type": "stream",
     "text": [
      "[1, 77, 76, 44, 39, 36, 30, 17, 13, 28, 17, 9, 11, 11, 7, 5, 6, 2, 7, 7, 3, 3, 3, 2, 1, 5, 1, 2, 1, 1, 1, 1, 1, 1, 1, 1]\n"
     ]
    }
   ],
   "source": [
    "print count\n"
   ]
  },
  {
   "cell_type": "code",
   "execution_count": null,
   "metadata": {
    "collapsed": true
   },
   "outputs": [],
   "source": []
  }
 ],
 "metadata": {
  "kernelspec": {
   "display_name": "Python 2",
   "language": "python",
   "name": "python2"
  },
  "language_info": {
   "codemirror_mode": {
    "name": "ipython",
    "version": 2
   },
   "file_extension": ".py",
   "mimetype": "text/x-python",
   "name": "python",
   "nbconvert_exporter": "python",
   "pygments_lexer": "ipython2",
   "version": "2.7.13"
  }
 },
 "nbformat": 4,
 "nbformat_minor": 2
}
