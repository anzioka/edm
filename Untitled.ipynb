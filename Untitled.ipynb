{
 "cells": [
  {
   "cell_type": "code",
   "execution_count": 44,
   "metadata": {
    "collapsed": true
   },
   "outputs": [],
   "source": [
    "import requests\n",
    "from collections import Counter\n",
    "entity = 'https://api.openlattice.com/datastore/edm/property/type'\n"
   ]
  },
  {
   "cell_type": "code",
   "execution_count": 52,
   "metadata": {},
   "outputs": [
    {
     "name": "stdout",
     "output_type": "stream",
     "text": [
      "['DateTimeOffset', 'Int32', 'GeographyPoint', 'Int16', 'String', 'Binary', 'TimeOfDay', 'Double', 'Date', 'Boolean', 'Int64', 'Duration', 'Guid']\n",
      "[89, 49, 1, 40, 984, 10, 6, 51, 24, 229, 48, 1, 4]\n"
     ]
    }
   ],
   "source": [
    "json = requests.get(entity).json()\n",
    "\n",
    "datatypes = [item['datatype'] for item in json]\n",
    "c = Counter(datatypes)\n",
    "analyzer = [item['analyzer'] for item in json]\n",
    "\n",
    "labels = [label.encode('ascii', 'ignore') for label, val in c.items()]\n",
    "# c = Counter(analyzer)\n",
    "print(labels)\n",
    "vals = [val for label, val in c.items()]\n",
    "print vals"
   ]
  },
  {
   "cell_type": "code",
   "execution_count": 40,
   "metadata": {},
   "outputs": [
    {
     "name": "stdout",
     "output_type": "stream",
     "text": [
      "Assessed By (-d)\n",
      "[{'name': 'Assessed By (-d)', 'value': 5}, {'name': '(referralrequest) Provided to organization, etc.', 'value': 3}, {'name': 'Assign To', 'value': 1}, {'name': 'Taking', 'value': 8}, {'name': 'Discharge information / details', 'value': 8}, {'name': 'Called', 'value': 2}, {'name': 'ReferredBy (-d)', 'value': 2}, {'name': 'Searched by', 'value': 1}, {'name': 'Edited By', 'value': 1}, {'name': 'Searched By', 'value': 1}, {'name': 'Oversaw', 'value': 1}, {'name': 'Plea', 'value': 2}, {'name': 'Digital Signature', 'value': 5}, {'name': 'Occurred At', 'value': 2}, {'name': 'Contacted At (-d)', 'value': 4}, {'name': 'Assessed By (-d)', 'value': 6}, {'name': 'Associated with', 'value': 1}, {'name': 'Warrant', 'value': 8}, {'name': 'Enters', 'value': 2}, {'name': 'Used (-d)', 'value': 3}, {'name': 'Inpatient stay / hospitalization', 'value': 9}, {'name': 'Vocabulary assessment', 'value': 6}, {'name': 'Used By', 'value': 4}, {'name': 'Ordered', 'value': 2}, {'name': 'Interacted With (-d)', 'value': 1}, {'name': 'Presides over', 'value': 1}, {'name': 'Patient Visit', 'value': 15}, {'name': 'Served with', 'value': 1}, {'name': 'Involved in (-d)', 'value': 1}, {'name': 'Parole Review', 'value': 6}]\n"
     ]
    }
   ],
   "source": [
    "props = [(item['title'], len(item['properties'])) for item in json[:30]]\n",
    "print props[0][0].encode('ascii', 'ignore')\n",
    "data = [{\"name\": name.encode('ascii', 'ignore'), \"value\": value} for name, value in props]\n",
    "print (data)\n"
   ]
  },
  {
   "cell_type": "code",
   "execution_count": 27,
   "metadata": {},
   "outputs": [],
   "source": [
    "#how many items have 3 props, 4 props etc\n",
    "from collections import Counter"
   ]
  },
  {
   "cell_type": "code",
   "execution_count": 28,
   "metadata": {},
   "outputs": [],
   "source": [
    "c = Counter(props)"
   ]
  },
  {
   "cell_type": "code",
   "execution_count": 29,
   "metadata": {},
   "outputs": [],
   "source": [
    "items = c.items()"
   ]
  },
  {
   "cell_type": "code",
   "execution_count": 30,
   "metadata": {},
   "outputs": [
    {
     "name": "stdout",
     "output_type": "stream",
     "text": [
      "[(0, 4), (1, 11), (2, 54), (3, 33), (4, 20), (5, 16), (6, 8), (7, 8), (8, 5), (10, 3), (11, 3), (12, 1), (13, 1), (15, 2), (16, 2), (18, 1), (19, 1), (20, 1), (26, 1), (27, 1), (29, 1), (30, 1), (33, 3), (35, 1), (37, 1), (39, 1), (41, 1), (56, 1), (84, 1)]\n"
     ]
    }
   ],
   "source": [
    "print (items)"
   ]
  },
  {
   "cell_type": "code",
   "execution_count": 31,
   "metadata": {},
   "outputs": [
    {
     "name": "stdout",
     "output_type": "stream",
     "text": [
      "[0, 1, 2, 3, 4, 5, 6, 7, 8, 10, 11, 12, 13, 15, 16, 18, 19, 20, 26, 27, 29, 30, 33, 35, 37, 39, 41, 56, 84]\n"
     ]
    }
   ],
   "source": [
    "size = [i for (i, j) in items]\n",
    "print size"
   ]
  },
  {
   "cell_type": "code",
   "execution_count": 32,
   "metadata": {
    "collapsed": true
   },
   "outputs": [],
   "source": [
    "count = [j for (i,j) in items]"
   ]
  },
  {
   "cell_type": "code",
   "execution_count": 33,
   "metadata": {},
   "outputs": [
    {
     "name": "stdout",
     "output_type": "stream",
     "text": [
      "[4, 11, 54, 33, 20, 16, 8, 8, 5, 3, 3, 1, 1, 2, 2, 1, 1, 1, 1, 1, 1, 1, 3, 1, 1, 1, 1, 1, 1]\n"
     ]
    }
   ],
   "source": [
    "print count\n"
   ]
  },
  {
   "cell_type": "code",
   "execution_count": null,
   "metadata": {
    "collapsed": true
   },
   "outputs": [],
   "source": []
  }
 ],
 "metadata": {
  "kernelspec": {
   "display_name": "Python 2",
   "language": "python",
   "name": "python2"
  },
  "language_info": {
   "codemirror_mode": {
    "name": "ipython",
    "version": 2
   },
   "file_extension": ".py",
   "mimetype": "text/x-python",
   "name": "python",
   "nbconvert_exporter": "python",
   "pygments_lexer": "ipython2",
   "version": "2.7.13"
  }
 },
 "nbformat": 4,
 "nbformat_minor": 2
}
