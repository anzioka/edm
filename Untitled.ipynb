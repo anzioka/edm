{
 "cells": [
  {
   "cell_type": "code",
   "execution_count": 34,
   "metadata": {
    "collapsed": true
   },
   "outputs": [],
   "source": [
    "import requests\n",
    "entity = 'https://api.openlattice.com/datastore/edm/entity/type'\n"
   ]
  },
  {
   "cell_type": "code",
   "execution_count": 35,
   "metadata": {},
   "outputs": [
    {
     "name": "stdout",
     "output_type": "stream",
     "text": [
      "{u'propertyTags': {}, u'category': u'AssociationType', u'description': u'Association linking a patient and the medical staff who assessed them. NOTE this FQN will be changed to general.assessedby later.', u'title': u'Assessed By (-d)', u'shards': 3, u'properties': [u'6675a7e8-2159-41b1-9431-4053690fa3c9', u'e9a0b4dc-5298-47c1-8837-20af172379a5', u'7b038634-a0b4-4ce1-a04f-85d1775937aa', u'e729bfaf-929e-498e-b953-d24656a168f6', u'e4c4cac8-aa44-4b99-9c6d-d3b3c6ef0734'], u'key': [u'6675a7e8-2159-41b1-9431-4053690fa3c9'], u'type': {u'namespace': u'health', u'name': u'assessedby -d'}, u'id': u'8a9e7698-a16e-4134-b63b-b3a379d0290b', u'schemas': [{u'namespace': u'v2', u'name': u'v2'}]}\n"
     ]
    }
   ],
   "source": [
    "json = requests.get(entity).json()\n",
    "print json[0]"
   ]
  },
  {
   "cell_type": "code",
   "execution_count": 40,
   "metadata": {},
   "outputs": [
    {
     "name": "stdout",
     "output_type": "stream",
     "text": [
      "Assessed By (-d)\n",
      "[{'name': 'Assessed By (-d)', 'value': 5}, {'name': '(referralrequest) Provided to organization, etc.', 'value': 3}, {'name': 'Assign To', 'value': 1}, {'name': 'Taking', 'value': 8}, {'name': 'Discharge information / details', 'value': 8}, {'name': 'Called', 'value': 2}, {'name': 'ReferredBy (-d)', 'value': 2}, {'name': 'Searched by', 'value': 1}, {'name': 'Edited By', 'value': 1}, {'name': 'Searched By', 'value': 1}, {'name': 'Oversaw', 'value': 1}, {'name': 'Plea', 'value': 2}, {'name': 'Digital Signature', 'value': 5}, {'name': 'Occurred At', 'value': 2}, {'name': 'Contacted At (-d)', 'value': 4}, {'name': 'Assessed By (-d)', 'value': 6}, {'name': 'Associated with', 'value': 1}, {'name': 'Warrant', 'value': 8}, {'name': 'Enters', 'value': 2}, {'name': 'Used (-d)', 'value': 3}, {'name': 'Inpatient stay / hospitalization', 'value': 9}, {'name': 'Vocabulary assessment', 'value': 6}, {'name': 'Used By', 'value': 4}, {'name': 'Ordered', 'value': 2}, {'name': 'Interacted With (-d)', 'value': 1}, {'name': 'Presides over', 'value': 1}, {'name': 'Patient Visit', 'value': 15}, {'name': 'Served with', 'value': 1}, {'name': 'Involved in (-d)', 'value': 1}, {'name': 'Parole Review', 'value': 6}]\n"
     ]
    }
   ],
   "source": [
    "props = [(item['title'], len(item['properties'])) for item in json[:30]]\n",
    "print props[0][0].encode('ascii', 'ignore')\n",
    "data = [{\"name\": name.encode('ascii', 'ignore'), \"value\": value} for name, value in props]\n",
    "print (data)\n"
   ]
  },
  {
   "cell_type": "code",
   "execution_count": 27,
   "metadata": {},
   "outputs": [],
   "source": [
    "#how many items have 3 props, 4 props etc\n",
    "from collections import Counter"
   ]
  },
  {
   "cell_type": "code",
   "execution_count": 28,
   "metadata": {},
   "outputs": [],
   "source": [
    "c = Counter(props)"
   ]
  },
  {
   "cell_type": "code",
   "execution_count": 29,
   "metadata": {},
   "outputs": [],
   "source": [
    "items = c.items()"
   ]
  },
  {
   "cell_type": "code",
   "execution_count": 30,
   "metadata": {},
   "outputs": [
    {
     "name": "stdout",
     "output_type": "stream",
     "text": [
      "[(0, 4), (1, 11), (2, 54), (3, 33), (4, 20), (5, 16), (6, 8), (7, 8), (8, 5), (10, 3), (11, 3), (12, 1), (13, 1), (15, 2), (16, 2), (18, 1), (19, 1), (20, 1), (26, 1), (27, 1), (29, 1), (30, 1), (33, 3), (35, 1), (37, 1), (39, 1), (41, 1), (56, 1), (84, 1)]\n"
     ]
    }
   ],
   "source": [
    "print (items)"
   ]
  },
  {
   "cell_type": "code",
   "execution_count": 31,
   "metadata": {},
   "outputs": [
    {
     "name": "stdout",
     "output_type": "stream",
     "text": [
      "[0, 1, 2, 3, 4, 5, 6, 7, 8, 10, 11, 12, 13, 15, 16, 18, 19, 20, 26, 27, 29, 30, 33, 35, 37, 39, 41, 56, 84]\n"
     ]
    }
   ],
   "source": [
    "size = [i for (i, j) in items]\n",
    "print size"
   ]
  },
  {
   "cell_type": "code",
   "execution_count": 32,
   "metadata": {
    "collapsed": true
   },
   "outputs": [],
   "source": [
    "count = [j for (i,j) in items]"
   ]
  },
  {
   "cell_type": "code",
   "execution_count": 33,
   "metadata": {},
   "outputs": [
    {
     "name": "stdout",
     "output_type": "stream",
     "text": [
      "[4, 11, 54, 33, 20, 16, 8, 8, 5, 3, 3, 1, 1, 2, 2, 1, 1, 1, 1, 1, 1, 1, 3, 1, 1, 1, 1, 1, 1]\n"
     ]
    }
   ],
   "source": [
    "print count\n"
   ]
  },
  {
   "cell_type": "code",
   "execution_count": null,
   "metadata": {
    "collapsed": true
   },
   "outputs": [],
   "source": []
  }
 ],
 "metadata": {
  "kernelspec": {
   "display_name": "Python 2",
   "language": "python",
   "name": "python2"
  },
  "language_info": {
   "codemirror_mode": {
    "name": "ipython",
    "version": 2
   },
   "file_extension": ".py",
   "mimetype": "text/x-python",
   "name": "python",
   "nbconvert_exporter": "python",
   "pygments_lexer": "ipython2",
   "version": "2.7.13"
  }
 },
 "nbformat": 4,
 "nbformat_minor": 2
}
