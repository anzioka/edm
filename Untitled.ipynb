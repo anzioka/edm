{
 "cells": [
  {
   "cell_type": "code",
   "execution_count": 70,
   "metadata": {
    "collapsed": true
   },
   "outputs": [],
   "source": [
    "import requests\n",
    "from collections import Counter\n",
    "entity = 'https://api.openlattice.com/datastore/edm/association/type'\n"
   ]
  },
  {
   "cell_type": "code",
   "execution_count": 73,
   "metadata": {},
   "outputs": [
    {
     "name": "stdout",
     "output_type": "stream",
     "text": [
      "{u'bidirectional': False, u'src': [u'1fb0c52c-d236-4c31-a79a-b302ad8e8fa2', u'493a66ef-abce-44f1-ad7d-b1fd46ca6b7e'], u'dst': [u'955dc331-b23e-4b4f-993c-4f2c9bb47fca', u'9d40e6a5-5e00-47ec-9645-32fcfd276a86'], u'entityType': {u'propertyTags': {}, u'category': u'AssociationType', u'description': u'', u'title': u'Comprises; is composed of', u'shards': 3, u'properties': [u'6675a7e8-2159-41b1-9431-4053690fa3c9', u'39e13db7-a730-421a-a600-ae0674060140'], u'key': [u'39e13db7-a730-421a-a600-ae0674060140'], u'type': {u'namespace': u'ol', u'name': u'comprises'}, u'id': u'000a620f-a858-459a-8d2c-66628b1db422', u'schemas': []}}\n"
     ]
    }
   ],
   "source": [
    "json = requests.get(entity).json()\n",
    "print json[0]"
   ]
  },
  {
   "cell_type": "code",
   "execution_count": 71,
   "metadata": {
    "collapsed": true
   },
   "outputs": [],
   "source": [
    "def encode(st):\n",
    "    return st.encode('ascii', 'ignore')"
   ]
  },
  {
   "cell_type": "code",
   "execution_count": 72,
   "metadata": {},
   "outputs": [
    {
     "ename": "KeyError",
     "evalue": "'datatype'",
     "output_type": "error",
     "traceback": [
      "\u001b[0;31m---------------------------------------------------------------------------\u001b[0m",
      "\u001b[0;31mKeyError\u001b[0m                                  Traceback (most recent call last)",
      "\u001b[0;32m<ipython-input-72-a7eddb397fc2>\u001b[0m in \u001b[0;36m<module>\u001b[0;34m()\u001b[0m\n\u001b[1;32m      1\u001b[0m \u001b[0mjson\u001b[0m \u001b[0;34m=\u001b[0m \u001b[0mrequests\u001b[0m\u001b[0;34m.\u001b[0m\u001b[0mget\u001b[0m\u001b[0;34m(\u001b[0m\u001b[0mentity\u001b[0m\u001b[0;34m)\u001b[0m\u001b[0;34m.\u001b[0m\u001b[0mjson\u001b[0m\u001b[0;34m(\u001b[0m\u001b[0;34m)\u001b[0m\u001b[0;34m\u001b[0m\u001b[0m\n\u001b[1;32m      2\u001b[0m \u001b[0;34m\u001b[0m\u001b[0m\n\u001b[0;32m----> 3\u001b[0;31m \u001b[0mdatatypes\u001b[0m \u001b[0;34m=\u001b[0m \u001b[0;34m[\u001b[0m\u001b[0mitem\u001b[0m\u001b[0;34m[\u001b[0m\u001b[0;34m'datatype'\u001b[0m\u001b[0;34m]\u001b[0m \u001b[0;32mfor\u001b[0m \u001b[0mitem\u001b[0m \u001b[0;32min\u001b[0m \u001b[0mjson\u001b[0m\u001b[0;34m]\u001b[0m\u001b[0;34m\u001b[0m\u001b[0m\n\u001b[0m\u001b[1;32m      4\u001b[0m \u001b[0mc\u001b[0m \u001b[0;34m=\u001b[0m \u001b[0mCounter\u001b[0m\u001b[0;34m(\u001b[0m\u001b[0mdatatypes\u001b[0m\u001b[0;34m)\u001b[0m\u001b[0;34m\u001b[0m\u001b[0m\n\u001b[1;32m      5\u001b[0m \u001b[0manalyzer\u001b[0m \u001b[0;34m=\u001b[0m \u001b[0;34m[\u001b[0m\u001b[0mitem\u001b[0m\u001b[0;34m[\u001b[0m\u001b[0;34m'analyzer'\u001b[0m\u001b[0;34m]\u001b[0m \u001b[0;32mfor\u001b[0m \u001b[0mitem\u001b[0m \u001b[0;32min\u001b[0m \u001b[0mjson\u001b[0m\u001b[0;34m]\u001b[0m\u001b[0;34m\u001b[0m\u001b[0m\n",
      "\u001b[0;31mKeyError\u001b[0m: 'datatype'"
     ]
    }
   ],
   "source": [
    "json = requests.get(entity).json()\n",
    "\n",
    "datatypes = [item['datatype'] for item in json]\n",
    "c = Counter(datatypes)\n",
    "analyzer = [item['analyzer'] for item in json]\n",
    "\n",
    "labels = [label.encode('ascii', 'ignore') for label, val in c.items()]\n",
    "# c = Counter(analyzer)\n",
    "# print(labels)\n",
    "vals = [val for label, val in c.items()]\n",
    "# print vals\n",
    "c = Counter([item['indexType'] for item in json])\n",
    "vals = [val for label, val in c.items()]\n",
    "labels = [encode(label) for label, val in c.items()]\n",
    "print vals\n",
    "print labels\n",
    "c = Counter([item['pii'] for item in json])\n",
    "print c\n",
    "vals = [val for label, val in c.items()]\n",
    "labels = [label for label, val in c.items()]\n",
    "print vals\n",
    "print labels"
   ]
  },
  {
   "cell_type": "code",
   "execution_count": 57,
   "metadata": {},
   "outputs": [
    {
     "name": "stdout",
     "output_type": "stream",
     "text": [
      "{u'pii': False, u'description': u'Property to enable differentiation  between affirmatively stating, for example, that a patient has no known allergies versus either not including allergies in the record (for example an episodic document where the allergies are not considered relevant to the document); or asserting that allergies were not reviewed and are unknown. Categories can include  entered-in-error | negated | refuted |  not asked ', u'title': u'Negated / refuted / not asked / entered in error', u'datatype': u'String', u'analyzer': u'METAPHONE', u'indexType': u'NONE', u'multiValued': True, u'type': {u'namespace': u'ol', u'name': u'negated'}, u'id': u'1c3b3c2d-583b-40ab-b71b-6691bd93277b', u'schemas': []}\n"
     ]
    }
   ],
   "source": [
    "# props = [(item['title'], len(item['properties'])) for item in json[:30]]\n",
    "# print props[0][0].encode('ascii', 'ignore')\n",
    "# data = [{\"name\": name.encode('ascii', 'ignore'), \"value\": value} for name, value in props]\n",
    "print (json[0])\n"
   ]
  },
  {
   "cell_type": "code",
   "execution_count": 27,
   "metadata": {},
   "outputs": [],
   "source": [
    "#how many items have 3 props, 4 props etc\n",
    "from collections import Counter"
   ]
  },
  {
   "cell_type": "code",
   "execution_count": 28,
   "metadata": {},
   "outputs": [],
   "source": [
    "c = Counter(props)"
   ]
  },
  {
   "cell_type": "code",
   "execution_count": 29,
   "metadata": {},
   "outputs": [],
   "source": [
    "items = c.items()"
   ]
  },
  {
   "cell_type": "code",
   "execution_count": 30,
   "metadata": {},
   "outputs": [
    {
     "name": "stdout",
     "output_type": "stream",
     "text": [
      "[(0, 4), (1, 11), (2, 54), (3, 33), (4, 20), (5, 16), (6, 8), (7, 8), (8, 5), (10, 3), (11, 3), (12, 1), (13, 1), (15, 2), (16, 2), (18, 1), (19, 1), (20, 1), (26, 1), (27, 1), (29, 1), (30, 1), (33, 3), (35, 1), (37, 1), (39, 1), (41, 1), (56, 1), (84, 1)]\n"
     ]
    }
   ],
   "source": [
    "print (items)"
   ]
  },
  {
   "cell_type": "code",
   "execution_count": 31,
   "metadata": {},
   "outputs": [
    {
     "name": "stdout",
     "output_type": "stream",
     "text": [
      "[0, 1, 2, 3, 4, 5, 6, 7, 8, 10, 11, 12, 13, 15, 16, 18, 19, 20, 26, 27, 29, 30, 33, 35, 37, 39, 41, 56, 84]\n"
     ]
    }
   ],
   "source": [
    "size = [i for (i, j) in items]\n",
    "print size"
   ]
  },
  {
   "cell_type": "code",
   "execution_count": 32,
   "metadata": {
    "collapsed": true
   },
   "outputs": [],
   "source": [
    "count = [j for (i,j) in items]"
   ]
  },
  {
   "cell_type": "code",
   "execution_count": 33,
   "metadata": {},
   "outputs": [
    {
     "name": "stdout",
     "output_type": "stream",
     "text": [
      "[4, 11, 54, 33, 20, 16, 8, 8, 5, 3, 3, 1, 1, 2, 2, 1, 1, 1, 1, 1, 1, 1, 3, 1, 1, 1, 1, 1, 1]\n"
     ]
    }
   ],
   "source": [
    "print count\n"
   ]
  },
  {
   "cell_type": "code",
   "execution_count": null,
   "metadata": {
    "collapsed": true
   },
   "outputs": [],
   "source": []
  }
 ],
 "metadata": {
  "kernelspec": {
   "display_name": "Python 2",
   "language": "python",
   "name": "python2"
  },
  "language_info": {
   "codemirror_mode": {
    "name": "ipython",
    "version": 2
   },
   "file_extension": ".py",
   "mimetype": "text/x-python",
   "name": "python",
   "nbconvert_exporter": "python",
   "pygments_lexer": "ipython2",
   "version": "2.7.13"
  }
 },
 "nbformat": 4,
 "nbformat_minor": 2
}
